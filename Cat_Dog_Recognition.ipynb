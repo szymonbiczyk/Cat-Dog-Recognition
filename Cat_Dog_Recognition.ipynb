{
  "nbformat": 4,
  "nbformat_minor": 0,
  "metadata": {
    "colab": {
      "provenance": [],
      "include_colab_link": true
    },
    "kernelspec": {
      "name": "python3",
      "display_name": "Python 3"
    },
    "language_info": {
      "name": "python"
    }
  },
  "cells": [
    {
      "cell_type": "markdown",
      "metadata": {
        "id": "view-in-github",
        "colab_type": "text"
      },
      "source": [
        "<a href=\"https://colab.research.google.com/github/szymonbiczyk/Cat-Dog-Recognition/blob/main/Cat_Dog_Recognition.ipynb\" target=\"_parent\"><img src=\"https://colab.research.google.com/assets/colab-badge.svg\" alt=\"Open In Colab\"/></a>"
      ]
    },
    {
      "cell_type": "code",
      "source": [
        "import matplotlib.pyplot as plt\n",
        "import numpy as np\n",
        "import os\n",
        "import PIL\n",
        "import tensorflow as tf\n",
        "\n",
        "from tensorflow import keras\n",
        "from tensorflow.keras import layers\n",
        "from tensorflow.keras.models import Sequential"
      ],
      "metadata": {
        "id": "GLPatms6FT1Z"
      },
      "execution_count": null,
      "outputs": []
    },
    {
      "cell_type": "code",
      "source": [
        "from google.colab import drive\n",
        "drive.mount('/content/drive')"
      ],
      "metadata": {
        "colab": {
          "base_uri": "https://localhost:8080/"
        },
        "id": "Y1ygkhwmc91J",
        "outputId": "478979fd-9143-41f1-b10b-fc8eb1dcd719"
      },
      "execution_count": null,
      "outputs": [
        {
          "output_type": "stream",
          "name": "stdout",
          "text": [
            "Mounted at /content/drive\n"
          ]
        }
      ]
    },
    {
      "cell_type": "code",
      "source": [
        "!ls drive/MyDrive/dogs_vs_cats/\n"
      ],
      "metadata": {
        "colab": {
          "base_uri": "https://localhost:8080/"
        },
        "id": "OGb0sI2gze44",
        "outputId": "428d8d2a-8c5a-4c13-b1c6-593758cfc95c"
      },
      "execution_count": null,
      "outputs": [
        {
          "output_type": "stream",
          "name": "stdout",
          "text": [
            "test  train  validation\n"
          ]
        }
      ]
    },
    {
      "cell_type": "code",
      "source": [
        "import os, shutil, pathlib\n",
        "\n",
        "\n",
        "from tensorflow.keras.utils import image_dataset_from_directory\n",
        "\n",
        "base_dir=pathlib.Path(\"drive/MyDrive/dogs_vs_cats\")\n",
        "\n",
        "train_dataset = image_dataset_from_directory(\n",
        "    base_dir / \"train\",\n",
        "    image_size=(180, 180),\n",
        "    batch_size=32)\n",
        "validation_dataset = image_dataset_from_directory(\n",
        "    base_dir / \"validation\",\n",
        "    image_size=(180, 180),\n",
        "    batch_size=32)\n",
        "test_dataset = image_dataset_from_directory(\n",
        "    base_dir / \"test\",\n",
        "    image_size=(180, 180),\n",
        "    batch_size=32)"
      ],
      "metadata": {
        "colab": {
          "base_uri": "https://localhost:8080/"
        },
        "id": "1kZjC78KyTmZ",
        "outputId": "2206c441-deae-4109-f029-b0757806e1d6"
      },
      "execution_count": null,
      "outputs": [
        {
          "output_type": "stream",
          "name": "stdout",
          "text": [
            "Found 1952 files belonging to 2 classes.\n",
            "Found 998 files belonging to 2 classes.\n",
            "Found 1021 files belonging to 2 classes.\n"
          ]
        }
      ]
    },
    {
      "cell_type": "code",
      "source": [
        "#Displaying the shapes of the data and labels yielded by the Dataset\n",
        "\n",
        "\n",
        "for data_batch, labels_batch in train_dataset:\n",
        "    print(\"data batch shape:\", data_batch.shape) \n",
        "    print(\"labels batch shape:\", labels_batch.shape)\n",
        "    break\n"
      ],
      "metadata": {
        "colab": {
          "base_uri": "https://localhost:8080/"
        },
        "id": "A3KKuphr8FYN",
        "outputId": "bba0e193-c836-45a7-e9d6-4a08e00c2022"
      },
      "execution_count": null,
      "outputs": [
        {
          "output_type": "stream",
          "name": "stdout",
          "text": [
            "data batch shape: (32, 180, 180, 3)\n",
            "labels batch shape: (32,)\n"
          ]
        }
      ]
    },
    {
      "cell_type": "code",
      "source": [
        "AUTOTUNE = tf.data.AUTOTUNE\n",
        "# good practice to do with data\n",
        "train_dataset = train_dataset.cache().shuffle(1000).prefetch(buffer_size=AUTOTUNE)\n",
        "validation_dataset = validation_dataset.cache().prefetch(buffer_size=AUTOTUNE)"
      ],
      "metadata": {
        "id": "uO8vC7c3ExSH"
      },
      "execution_count": null,
      "outputs": []
    },
    {
      "cell_type": "code",
      "source": [
        "# data standarization from rgb[0,255] to [0, 1]\n",
        "normalization_layer = layers.Rescaling(1. /255)"
      ],
      "metadata": {
        "id": "yyKUPi72DQiT"
      },
      "execution_count": null,
      "outputs": []
    },
    {
      "cell_type": "code",
      "source": [
        "data_augmentation = keras.Sequential(\n",
        "  [\n",
        "    layers.RandomFlip(\"horizontal\", input_shape=(180,180,3)),\n",
        "    layers.RandomRotation(0.1),\n",
        "    layers.RandomZoom(0.1),\n",
        "  ]\n",
        ")"
      ],
      "metadata": {
        "id": "bGBRW8QsjCGN"
      },
      "execution_count": null,
      "outputs": []
    },
    {
      "cell_type": "code",
      "source": [
        "#num_classes = len(class_names)\n",
        "from tensorflow.keras import regularizers\n",
        "\n",
        "model = Sequential([\n",
        "  \n",
        "    data_augmentation,\n",
        "    layers.Rescaling(1./255, input_shape=(180, 180, 3)), # data standarization\n",
        "    layers.Conv2D(32, (3,3), padding='same',kernel_initializer='he_uniform', activation='relu', input_shape=(180, 180, 3)),\n",
        "    layers.BatchNormalization(),\n",
        "    layers.MaxPooling2D((2, 2)),\n",
        "    layers.Dropout(0.2),\n",
        "\n",
        "    layers.Conv2D(64, (3,3), padding='same',kernel_initializer='he_uniform', activation='relu'),\n",
        "    layers.BatchNormalization(),\n",
        "    layers.MaxPooling2D((2, 2)),\n",
        "    layers.Dropout(0.2),\n",
        "\n",
        "    layers.Conv2D(128, (3,3), padding='same',kernel_initializer='he_uniform', activation='relu'),\n",
        "    layers.BatchNormalization(),\n",
        "    layers.MaxPooling2D((2, 2)),\n",
        "    layers.Dropout(0.2),\n",
        "\n",
        "    layers.Flatten(),\n",
        "    layers.Dense(128, activation='relu', kernel_initializer='he_uniform'),\n",
        "    layers.BatchNormalization(),\n",
        "    layers.Dropout(0.3),\n",
        "    layers.Dense(1, activation='sigmoid')\n",
        "])"
      ],
      "metadata": {
        "id": "NBh4nfKcGJ3R"
      },
      "execution_count": null,
      "outputs": []
    },
    {
      "cell_type": "code",
      "source": [
        "from keras.optimizers import SGD\n",
        "opt = SGD(lr=0.001, momentum=0.9)\n",
        "model.compile(optimizer='RMSprop', loss='binary_crossentropy', metrics=['accuracy'])\n",
        "model.summary()"
      ],
      "metadata": {
        "colab": {
          "base_uri": "https://localhost:8080/"
        },
        "id": "AaeaVI5fIAV6",
        "outputId": "cde6be68-23e8-4822-f986-48f9c76f5ea8"
      },
      "execution_count": null,
      "outputs": [
        {
          "output_type": "stream",
          "name": "stdout",
          "text": [
            "Model: \"sequential_2\"\n",
            "_________________________________________________________________\n",
            " Layer (type)                Output Shape              Param #   \n",
            "=================================================================\n",
            " sequential (Sequential)     (None, 180, 180, 3)       0         \n",
            "                                                                 \n",
            " rescaling_1 (Rescaling)     (None, 180, 180, 3)       0         \n",
            "                                                                 \n",
            " conv2d_3 (Conv2D)           (None, 180, 180, 32)      896       \n",
            "                                                                 \n",
            " batch_normalization_4 (Batc  (None, 180, 180, 32)     128       \n",
            " hNormalization)                                                 \n",
            "                                                                 \n",
            " max_pooling2d_3 (MaxPooling  (None, 90, 90, 32)       0         \n",
            " 2D)                                                             \n",
            "                                                                 \n",
            " dropout (Dropout)           (None, 90, 90, 32)        0         \n",
            "                                                                 \n",
            " conv2d_4 (Conv2D)           (None, 90, 90, 64)        18496     \n",
            "                                                                 \n",
            " batch_normalization_5 (Batc  (None, 90, 90, 64)       256       \n",
            " hNormalization)                                                 \n",
            "                                                                 \n",
            " max_pooling2d_4 (MaxPooling  (None, 45, 45, 64)       0         \n",
            " 2D)                                                             \n",
            "                                                                 \n",
            " dropout_1 (Dropout)         (None, 45, 45, 64)        0         \n",
            "                                                                 \n",
            " conv2d_5 (Conv2D)           (None, 45, 45, 128)       73856     \n",
            "                                                                 \n",
            " batch_normalization_6 (Batc  (None, 45, 45, 128)      512       \n",
            " hNormalization)                                                 \n",
            "                                                                 \n",
            " max_pooling2d_5 (MaxPooling  (None, 22, 22, 128)      0         \n",
            " 2D)                                                             \n",
            "                                                                 \n",
            " dropout_2 (Dropout)         (None, 22, 22, 128)       0         \n",
            "                                                                 \n",
            " flatten_1 (Flatten)         (None, 61952)             0         \n",
            "                                                                 \n",
            " dense_2 (Dense)             (None, 128)               7929984   \n",
            "                                                                 \n",
            " batch_normalization_7 (Batc  (None, 128)              512       \n",
            " hNormalization)                                                 \n",
            "                                                                 \n",
            " dropout_3 (Dropout)         (None, 128)               0         \n",
            "                                                                 \n",
            " dense_3 (Dense)             (None, 1)                 129       \n",
            "                                                                 \n",
            "=================================================================\n",
            "Total params: 8,024,769\n",
            "Trainable params: 8,024,065\n",
            "Non-trainable params: 704\n",
            "_________________________________________________________________\n"
          ]
        }
      ]
    },
    {
      "cell_type": "code",
      "source": [
        "# fit model\n",
        "epochs=15\n",
        "history = model.fit(\n",
        "    train_dataset,\n",
        "    validation_data= validation_dataset,\n",
        "    epochs=epochs\n",
        ")"
      ],
      "metadata": {
        "colab": {
          "base_uri": "https://localhost:8080/"
        },
        "id": "3AOBZm6XJVH0",
        "outputId": "d4255477-e610-4dcb-e3bf-543a6dfb2f81"
      },
      "execution_count": null,
      "outputs": [
        {
          "output_type": "stream",
          "name": "stdout",
          "text": [
            "Epoch 1/15\n",
            "61/61 [==============================] - 192s 3s/step - loss: 0.8256 - accuracy: 0.6071 - val_loss: 2.1656 - val_accuracy: 0.5190\n",
            "Epoch 2/15\n",
            "61/61 [==============================] - 190s 3s/step - loss: 0.6966 - accuracy: 0.6219 - val_loss: 2.8486 - val_accuracy: 0.5040\n",
            "Epoch 3/15\n",
            "61/61 [==============================] - 190s 3s/step - loss: 0.6671 - accuracy: 0.6532 - val_loss: 3.2431 - val_accuracy: 0.5140\n",
            "Epoch 4/15\n",
            "61/61 [==============================] - 189s 3s/step - loss: 0.6490 - accuracy: 0.6609 - val_loss: 6.2641 - val_accuracy: 0.5140\n",
            "Epoch 5/15\n",
            "61/61 [==============================] - 190s 3s/step - loss: 0.5923 - accuracy: 0.6962 - val_loss: 2.0333 - val_accuracy: 0.5591\n",
            "Epoch 6/15\n",
            "61/61 [==============================] - 190s 3s/step - loss: 0.5676 - accuracy: 0.7172 - val_loss: 2.4257 - val_accuracy: 0.5391\n",
            "Epoch 7/15\n",
            "61/61 [==============================] - 189s 3s/step - loss: 0.5289 - accuracy: 0.7362 - val_loss: 1.0445 - val_accuracy: 0.6673\n",
            "Epoch 8/15\n",
            "61/61 [==============================] - 189s 3s/step - loss: 0.5046 - accuracy: 0.7541 - val_loss: 0.6708 - val_accuracy: 0.7114\n",
            "Epoch 9/15\n",
            "61/61 [==============================] - 189s 3s/step - loss: 0.4841 - accuracy: 0.7613 - val_loss: 0.6053 - val_accuracy: 0.7184\n",
            "Epoch 10/15\n",
            "61/61 [==============================] - 189s 3s/step - loss: 0.4713 - accuracy: 0.7802 - val_loss: 0.5452 - val_accuracy: 0.7535\n",
            "Epoch 11/15\n",
            "61/61 [==============================] - 190s 3s/step - loss: 0.4496 - accuracy: 0.7879 - val_loss: 0.5650 - val_accuracy: 0.7605\n",
            "Epoch 12/15\n",
            "61/61 [==============================] - 188s 3s/step - loss: 0.4406 - accuracy: 0.7894 - val_loss: 0.5757 - val_accuracy: 0.7234\n",
            "Epoch 13/15\n",
            "61/61 [==============================] - 190s 3s/step - loss: 0.4183 - accuracy: 0.8115 - val_loss: 0.5136 - val_accuracy: 0.7545\n",
            "Epoch 14/15\n",
            "61/61 [==============================] - 190s 3s/step - loss: 0.4123 - accuracy: 0.8079 - val_loss: 0.5421 - val_accuracy: 0.7625\n",
            "Epoch 15/15\n",
            "61/61 [==============================] - 190s 3s/step - loss: 0.3950 - accuracy: 0.8181 - val_loss: 0.8443 - val_accuracy: 0.6944\n"
          ]
        }
      ]
    },
    {
      "cell_type": "code",
      "source": [
        "acc = history.history['accuracy']\n",
        "val_acc = history.history['val_accuracy']\n",
        "\n",
        "loss = history.history['loss']\n",
        "val_loss = history.history['val_loss']\n",
        "\n",
        "epochs_range = range(epochs)\n",
        "\n",
        "plt.figure(figsize=(8, 8))\n",
        "plt.subplot(1, 2, 1)\n",
        "plt.plot(epochs_range, acc, label='Training Accuracy')\n",
        "plt.plot(epochs_range, val_acc, label='Validation Accuracy')\n",
        "plt.legend(loc='lower right')\n",
        "plt.title('Training and Validation Accuracy')\n",
        "\n",
        "plt.subplot(1, 2, 2)\n",
        "plt.plot(epochs_range, loss, label='Training Loss')\n",
        "plt.plot(epochs_range, val_loss, label='Validation Loss')\n",
        "plt.legend(loc='upper right')\n",
        "plt.title('Training and Validation Loss')\n",
        "plt.show()"
      ],
      "metadata": {
        "colab": {
          "base_uri": "https://localhost:8080/",
          "height": 499
        },
        "id": "M-2SCRXfE7QB",
        "outputId": "afe3fd47-04bf-45cd-f0b7-541883020b1a"
      },
      "execution_count": null,
      "outputs": [
        {
          "output_type": "display_data",
          "data": {
            "text/plain": [
              "<Figure size 576x576 with 2 Axes>"
            ],
            "image/png": "[encoded data removed]"
          },
          "metadata": {
            "needs_background": "light"
          }
        }
      ]
    },
    {
      "cell_type": "code",
      "source": [
        "# evaluate model\n",
        "_, acc = model.evaluate_generator(test_dataset, steps=len(test_dataset), verbose=0)\n",
        "print('> %.3f' % (acc * 100.0))"
      ],
      "metadata": {
        "colab": {
          "base_uri": "https://localhost:8080/"
        },
        "id": "IkAoviuOJu2d",
        "outputId": "77da30e2-2994-4283-fb8f-fcfadd8381ea"
      },
      "execution_count": null,
      "outputs": [
        {
          "output_type": "stream",
          "name": "stderr",
          "text": [
            "<ipython-input-10-40dc9ae9fa2e>:2: UserWarning: `Model.evaluate_generator` is deprecated and will be removed in a future version. Please use `Model.evaluate`, which supports generators.\n",
            "  _, acc = model.evaluate_generator(test_dataset, steps=len(test_dataset), verbose=0)\n"
          ]
        },
        {
          "output_type": "stream",
          "name": "stdout",
          "text": [
            "> 76.298\n"
          ]
        }
      ]
    }
  ]
}